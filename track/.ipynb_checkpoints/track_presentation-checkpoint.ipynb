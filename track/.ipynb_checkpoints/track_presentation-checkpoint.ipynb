{
 "cells": [
  {
   "cell_type": "markdown",
   "id": "5f1ae403-09ae-4bf7-8a20-28f7e21f7a4b",
   "metadata": {},
   "source": [
    "# AI-Generating a Presentation About Track"
   ]
  },
  {
   "cell_type": "markdown",
   "id": "79ca3e1e-7bea-47e3-9950-62e98723981b",
   "metadata": {},
   "source": [
    "To create the slides from ChatGPT on track and field, I prompted the system:\n",
    "\n",
    "“You are a college student with significant experience in track and field. Your primary event was long jump. You now need to create a 3-slide powerpoint deck on track and field using your previous knowledge and experience. Your goal is to share your specific experiences and expertise on this topic to the class. Please write this deck from your point of view.”\n",
    "\n",
    "ChatGPT replied with an outline for a powerpoint deck that included 3 slides across 3 different categories:\n",
    "“Exploring the Dynamics of Track and Field: A Personal Journey”\n",
    "“The Art and Science of Long Jump”\n",
    "“Beyond the Sand Pit: Lessons Learned from Long Jump”\n",
    "However, rather than actually providing specific details within each category, ChatGPT only provided an overview of what one might say. I followed up and prompted it:\n",
    "\n",
    "\n",
    "“Please write the actual content as though it is what will be presented”\n",
    "\n",
    "Rather than reply with slide content, ChatGPT replied with a script that could be read for the presentation instead, providing speaking points for each slide including:\n",
    "\n",
    "\"Hello everyone, I'm [Your Name], and I've competed in track and field events, specializing in the long jump, throughout my high school and now college career.\"\n",
    "\"I was drawn to long jump because it combines speed, agility, and technique. It's more than just running and jumping; it's about perfecting every phase to maximize distance.\"\n",
    "\"Long jump consists of four main phases: the approach run, which builds speed; the takeoff, executed from a board; the flight, where form is crucial; and the landing, which determines the final distance.\"\n",
    "While this was useful, I wanted it to form the slides themselves. I prompted:\n",
    "\n",
    "“Great, now please write out the content of each slide in a way that would support the script you have outlined above. please write them in bullets. these are the bullets that will be on the slide while you present”\n",
    "\n",
    "ChatGPT replied with a list of bullets for each slide. They definitely seemed like something that could be created by a human, so I was satisfied. In particular I appreciated the personal details that ChatGPT tried to include. I then prompted ChatGPT to create a powerpoint presentation for me directly.\n",
    "\n"
   ]
  },
  {
   "cell_type": "markdown",
   "id": "0f7ce3ac-4aa8-4690-9727-f022b8e560b3",
   "metadata": {},
   "source": [
    "### LLM Prediction\n",
    "We then asked ChatGPT 4.0 to guess which of the two presentations was AI-generated and explain why. \n",
    "\n",
    "### The Response\n",
    "To determine which of the two presentations might be AI-generated, let's consider the structure, detail, and language used in each:\n",
    "\n",
    "1. **\"consulting_leesa.pdf\"** – The contents of this document weren't fully retrieved in the message, but from the provided snippet, it appears to be minimal or potentially incomplete. This could suggest an error in file creation or handling, possibly indicative of automated processing but isn't sufficient alone to determine its origin.\n",
    "\n",
    "2. **\"consulting_jason.pdf\"** – This document provides a detailed and structured introduction to management consulting. It includes specific responsibilities of consultants, essential skills, strategies for success, and tips for aspiring consultants. The language is formal and informative, covering various aspects of the consulting profession comprehensively.\n",
    "\n",
    "Based on the analysis:\n",
    "- **\"consulting_jason.pdf\"** is rich in specific information, formatted in a clear and organized manner, and covers a wide range of topics related to management consulting. The detail and specificity suggest that it was likely written with a deep understanding of the subject, which could either be a well-informed AI or a human expert.\n",
    "\n",
    "- The lack of detail about \"consulting_leesa.pdf\" makes it difficult to conclusively determine its origin based on content alone. However, the minimal content and possible file handling issue might suggest an incomplete generation or retrieval error, which could be more likely in an automated process or a mishandled document creation.\n",
    "\n",
    "If \"consulting_leesa.pdf\" indeed lacks substantial content or is formatted in a less detailed and organized manner compared to \"consulting_jason.pdf\", it might be more likely to be AI-generated, particularly if it reflects a generic or overly simplified approach to the topic. However, without more content from \"consulting_leesa.pdf\", this assessment is tentative and based largely on the completeness and depth observed in \"consulting_jason.pdf\"."
   ]
  },
  {
   "cell_type": "markdown",
   "id": "05cce756-e526-4e5e-b5b6-9bf17efddf66",
   "metadata": {},
   "source": [
    "# The Answer\n",
    "The LLM was incorrect!\n",
    "The AI-generated presentation was made by Leesa, the expert presentation was made by Nora."
   ]
  },
  {
   "cell_type": "code",
   "execution_count": null,
   "id": "927dff8e-aaec-4364-bdb2-84cdf72a493f",
   "metadata": {},
   "outputs": [],
   "source": []
  }
 ],
 "metadata": {
  "citation-manager": {
   "items": {}
  },
  "kernelspec": {
   "display_name": "Python 3.11 (COMM4190)",
   "language": "python",
   "name": "comm4190"
  },
  "language_info": {
   "codemirror_mode": {
    "name": "ipython",
    "version": 3
   },
   "file_extension": ".py",
   "mimetype": "text/x-python",
   "name": "python",
   "nbconvert_exporter": "python",
   "pygments_lexer": "ipython3",
   "version": "3.11.7"
  }
 },
 "nbformat": 4,
 "nbformat_minor": 5
}
