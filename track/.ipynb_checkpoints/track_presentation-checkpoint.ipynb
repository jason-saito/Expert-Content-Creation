{
 "cells": [
  {
   "cell_type": "markdown",
   "id": "5f1ae403-09ae-4bf7-8a20-28f7e21f7a4b",
   "metadata": {},
   "source": [
    "# AI-Generating a Presentation About Track"
   ]
  },
  {
   "cell_type": "markdown",
   "id": "79ca3e1e-7bea-47e3-9950-62e98723981b",
   "metadata": {},
   "source": [
    "To create the slides from ChatGPT on track and field, I prompted the system:\n",
    "\n",
    "“You are a college student with significant experience in track and field. Your primary event was long jump. You now need to create a 3-slide powerpoint deck on track and field using your previous knowledge and experience. Your goal is to share your specific experiences and expertise on this topic to the class. Please write this deck from your point of view.”\n",
    "\n",
    "ChatGPT replied with an outline for a powerpoint deck that included 3 slides across 3 different categories:\n",
    "“Exploring the Dynamics of Track and Field: A Personal Journey”\n",
    "“The Art and Science of Long Jump”\n",
    "“Beyond the Sand Pit: Lessons Learned from Long Jump”\n",
    "However, rather than actually providing specific details within each category, ChatGPT only provided an overview of what one might say. I followed up and prompted it:\n",
    "\n",
    "\n",
    "“Please write the actual content as though it is what will be presented”\n",
    "\n",
    "Rather than reply with slide content, ChatGPT replied with a script that could be read for the presentation instead, providing speaking points for each slide including:\n",
    "\n",
    "\"Hello everyone, I'm [Your Name], and I've competed in track and field events, specializing in the long jump, throughout my high school and now college career.\"\n",
    "\"I was drawn to long jump because it combines speed, agility, and technique. It's more than just running and jumping; it's about perfecting every phase to maximize distance.\"\n",
    "\"Long jump consists of four main phases: the approach run, which builds speed; the takeoff, executed from a board; the flight, where form is crucial; and the landing, which determines the final distance.\"\n",
    "While this was useful, I wanted it to form the slides themselves. I prompted:\n",
    "\n",
    "“Great, now please write out the content of each slide in a way that would support the script you have outlined above. please write them in bullets. these are the bullets that will be on the slide while you present”\n",
    "\n",
    "ChatGPT replied with a list of bullets for each slide. They definitely seemed like something that could be created by a human, so I was satisfied. In particular I appreciated the personal details that ChatGPT tried to include. I then prompted ChatGPT to create a powerpoint presentation for me directly.\n",
    "\n"
   ]
  },
  {
   "cell_type": "markdown",
   "id": "05cce756-e526-4e5e-b5b6-9bf17efddf66",
   "metadata": {},
   "source": [
    "# The Answer\n",
    "The AI-generated presentation was made by Leesa, the expert presentation was made by Nora."
   ]
  }
 ],
 "metadata": {
  "citation-manager": {
   "items": {}
  },
  "kernelspec": {
   "display_name": "Python 3.11 (COMM4190)",
   "language": "python",
   "name": "comm4190"
  },
  "language_info": {
   "codemirror_mode": {
    "name": "ipython",
    "version": 3
   },
   "file_extension": ".py",
   "mimetype": "text/x-python",
   "name": "python",
   "nbconvert_exporter": "python",
   "pygments_lexer": "ipython3",
   "version": "3.11.7"
  }
 },
 "nbformat": 4,
 "nbformat_minor": 5
}
