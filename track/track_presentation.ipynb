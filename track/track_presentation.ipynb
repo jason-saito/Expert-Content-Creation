{
 "cells": [
  {
   "cell_type": "markdown",
   "id": "5f1ae403-09ae-4bf7-8a20-28f7e21f7a4b",
   "metadata": {},
   "source": [
    "# AI-Generating a Presentation About Track"
   ]
  },
  {
   "cell_type": "markdown",
   "id": "79ca3e1e-7bea-47e3-9950-62e98723981b",
   "metadata": {},
   "source": [
    "To create the slides from ChatGPT on track and field, I prompted the system:\n",
    "\n",
    "“You are a college student with significant experience in track and field. Your primary event was long jump. You now need to create a 3-slide powerpoint deck on track and field using your previous knowledge and experience. Your goal is to share your specific experiences and expertise on this topic to the class. Please write this deck from your point of view.”\n",
    "\n",
    "ChatGPT replied with an outline for a powerpoint deck that included 3 slides across 3 different categories:\n",
    "“Exploring the Dynamics of Track and Field: A Personal Journey”\n",
    "“The Art and Science of Long Jump”\n",
    "“Beyond the Sand Pit: Lessons Learned from Long Jump”\n",
    "However, rather than actually providing specific details within each category, ChatGPT only provided an overview of what one might say. I followed up and prompted it:\n",
    "\n",
    "\n",
    "“Please write the actual content as though it is what will be presented”\n",
    "\n",
    "Rather than reply with slide content, ChatGPT replied with a script that could be read for the presentation instead, providing speaking points for each slide including:\n",
    "\n",
    "\"Hello everyone, I'm [Your Name], and I've competed in track and field events, specializing in the long jump, throughout my high school and now college career.\"\n",
    "\"I was drawn to long jump because it combines speed, agility, and technique. It's more than just running and jumping; it's about perfecting every phase to maximize distance.\"\n",
    "\"Long jump consists of four main phases: the approach run, which builds speed; the takeoff, executed from a board; the flight, where form is crucial; and the landing, which determines the final distance.\"\n",
    "While this was useful, I wanted it to form the slides themselves. I prompted:\n",
    "\n",
    "“Great, now please write out the content of each slide in a way that would support the script you have outlined above. please write them in bullets. these are the bullets that will be on the slide while you present”\n",
    "\n",
    "ChatGPT replied with a list of bullets for each slide. They definitely seemed like something that could be created by a human, so I was satisfied. In particular I appreciated the personal details that ChatGPT tried to include. I then prompted ChatGPT to create a powerpoint presentation for me directly.\n",
    "\n"
   ]
  },
  {
   "cell_type": "markdown",
   "id": "0f7ce3ac-4aa8-4690-9727-f022b8e560b3",
   "metadata": {},
   "source": [
    "### LLM Prediction\n",
    "I then prompted ChatGPT 4.0 and asked it which of the two presentations was AI-generated.\n",
    "\n",
    "### The Response\n",
    "To determine which of the two presentations, \"track_leesa.pdf\" or \"track_nora.pdf\", might be AI-generated, let's evaluate the structure, content, and complexity of each:\n",
    "\n",
    "1. **Structure and Presentation**:\n",
    "   - **\"track_leesa.pdf\"** follows a conventional structure, with events grouped into categories (Running Events, Jumping Events, Throwing Events) and descriptions laid out in a straightforward list format. Each event is briefly explained with its main characteristics.\n",
    "   - **\"track_nora.pdf\"** presents a more detailed categorization of track and field events, mentioning specific types of competitions (like indoor and cross-country variations) and providing a more in-depth look at training differences among the various disciplines. It also attempts to address the specifics of training for each type of event, indicating a more nuanced understanding.\n",
    "\n",
    "2. **Depth of Content**:\n",
    "   - **\"track_leesa.pdf\"** provides basic definitions and descriptions, adhering to standard information that can be commonly found in educational materials or encyclopedic entries. This style is often indicative of generalized content creation, where depth and contextual nuances are limited.\n",
    "   - **\"track_nora.pdf\"** offers deeper insights, particularly in explaining how training varies by event, which suggests a more sophisticated level of detail and a likely familiarity with the sport beyond basic definitions.\n",
    "\n",
    "3. **Language and Detail**:\n",
    "   - **\"track_leesa.pdf\"** uses very generic language and provides just enough detail to convey the essence of each event without going into any specialized discussion or examples.\n",
    "   - **\"track_nora.pdf\"** delves into specifics like the indoor distances for sprints and middle-distance events, as well as detailed descriptions of physical training regimens for different types of athletes. This includes specific terms and concepts relevant to athletics training.\n",
    "\n",
    "Based on these observations, **\"track_leesa.pdf\"** seems more likely to be AI-generated. Its content is presented in a straightforward, list-based format typical of AI outputs that synthesize commonly available information without adding new insights or detailed knowledge. On the other hand, **\"track_nora.pdf\"** appears to be written by someone with a deeper understanding or direct experience with track and field, evidenced by its detailed discussion of event-specific training and nuances of the sport."
   ]
  },
  {
   "cell_type": "markdown",
   "id": "05cce756-e526-4e5e-b5b6-9bf17efddf66",
   "metadata": {},
   "source": [
    "# The Answer\n",
    "The LLM was correct!\n",
    "The AI-generated presentation was made by Leesa, the expert presentation was made by Nora."
   ]
  }
 ],
 "metadata": {
  "citation-manager": {
   "items": {}
  },
  "kernelspec": {
   "display_name": "Python 3.11 (COMM4190)",
   "language": "python",
   "name": "comm4190"
  },
  "language_info": {
   "codemirror_mode": {
    "name": "ipython",
    "version": 3
   },
   "file_extension": ".py",
   "mimetype": "text/x-python",
   "name": "python",
   "nbconvert_exporter": "python",
   "pygments_lexer": "ipython3",
   "version": "3.11.7"
  }
 },
 "nbformat": 4,
 "nbformat_minor": 5
}
