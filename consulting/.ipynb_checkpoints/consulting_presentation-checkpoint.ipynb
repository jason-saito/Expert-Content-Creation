{
 "cells": [
  {
   "cell_type": "markdown",
   "id": "a73b9db2-bcc0-4a20-af79-b41d9d941086",
   "metadata": {},
   "source": [
    "# AI-Generating a Presentation About Consulting"
   ]
  },
  {
   "cell_type": "markdown",
   "id": "f4c4e529-9980-4064-9b49-6c8c1445ad28",
   "metadata": {},
   "source": [
    "I decided to use ChatGPT 3.5 for my model of choice. Since I was unfamiliar with Consulting, I first prompted ChatGPT 3.5 with \n",
    "\n",
    "### Prompt:\n",
    ">Pretend you are a management consultant giving a presentation to people who are not familiar with mangement consulting, explain how to do the job well in three slides and other things that would be useful to know as an aspiring management consultant\n",
    "\n",
    "### Response from ChatGPT 3.5\n",
    "> Here's how you can explain the key aspects of excelling as a management consultant in a presentation:\n",
    "\n",
    "> Slide 1: Introduction to Management Consulting\n",
    "> Define management consulting: Management consulting is a profession where consultants help organizations improve their performance, solve problems, and achieve their goals.\n",
    "> Key responsibilities: Consultants analyze business processes, provide strategic recommendations, and support implementation of solutions.\n",
    "Skills required: Strong analytical skills, problem-solving abilities, effective communication, and industry knowledge are crucial.\n",
    "\n",
    ">Slide 2: Strategies for Success\n",
    "> Understand the client's needs: Develop a deep understanding of the client's business, industry, challenges, and goals.\n",
    "Analytical approach: Use data-driven analysis to identify opportunities, risks, and areas for improvement.\n",
    "Collaborative problem-solving: Work closely with clients and team members to develop and implement solutions that deliver value.\n",
    "Effective communication: Clearly communicate findings, recommendations, and progress to stakeholders at all levels.\n",
    "\n",
    ">Slide 3: Tips for Aspiring Management Consultants\n",
    "> Continuous learning: Stay updated with industry trends, tools, and methodologies to enhance your skills and knowledge.\n",
    "Build relationships: Cultivate strong relationships with clients, colleagues, and industry experts to expand your network and opportunities.\n",
    "Adaptability: Be flexible and adaptable to different client environments, challenges, and project requirements.\n",
    "Ethical conduct: Maintain integrity, honesty, and ethical conduct in all aspects of your work to build trust and credibility.\n",
    "\n",
    ">Other useful things to know as an aspiring management consultant:\n",
    "> Time management: Learn to prioritize tasks, manage deadlines, and balance multiple projects effectively.\n",
    "> Professional development: Seek mentorship, training, and certifications to enhance your expertise and career growth.\n",
    "> Networking: Attend industry events, join professional organizations, and engage in networking opportunities to build connections and learn from others in the field."
   ]
  },
  {
   "cell_type": "markdown",
   "id": "dc2f8c5d-b64e-4cdd-b6ea-19e3c1adc486",
   "metadata": {},
   "source": [
    "I felt like the model misunderstood what I was asking it. I was expecting presentation slides that I could use in the presentation rather than giving me ideas. Thus, I reprompted it\n",
    "\n",
    "### Prompt #2:\n",
    "> I am not a management consultant, you are, speak from your perspective.\n",
    "\n",
    "### Response #2: \n",
    "> Certainly! Here's how I, as a management consultant, would present strategies for excelling in this role:\n",
    "\n",
    "> **Slide 1: Introduction to Management Consulting**\n",
    "> - Introduction: Management consulting is a dynamic profession where we partner with organizations to drive strategic change and achieve operational excellence.\n",
    "> - Key responsibilities: Our role involves analyzing complex business problems, developing tailored solutions, and guiding clients through implementation.\n",
    "> - Essential skills: As consultants, we rely on strong analytical capabilities, effective communication, strategic thinking, and a deep understanding of industries and business processes.\n",
    "\n",
    ">**Slide 2: Strategies for Success**\n",
    ">- Client focus: Success begins with understanding our clients' unique challenges, goals, and operating environment. We strive to become trusted advisors by delivering value-added insights and solutions.\n",
    ">- Data-driven insights: Leveraging data analytics and market research allows us to uncover opportunities, identify risks, and make informed recommendations.\n",
    ">- Collaborative approach: We work closely with clients and cross-functional teams to co-create strategies, foster buy-in, and drive sustainable change.\n",
    ">- Communication excellence: Clear, concise, and persuasive communication is vital for conveying complex ideas, gaining stakeholder alignment, and achieving project success.\n",
    "\n",
    ">**Slide 3: Tips for Aspiring Management Consultants**\n",
    ">- Lifelong learning: Continuously upgrade skills, stay abreast of industry trends, and seek opportunities for professional development.\n",
    ">- Relationship building: Cultivate strong relationships with clients, peers, and industry experts to foster collaboration, knowledge sharing, and future opportunities.\n",
    ">- Adaptability: Embrace change, be agile in problem-solving, and navigate diverse project environments with resilience.\n",
    ">- Ethical leadership: Uphold ethical standards, integrity, and transparency in all interactions to build trust and credibility within the consulting community and with clients.\n",
    "\n",
    ">From my perspective as a management consultant, these strategies and tips are foundational to delivering impactful results, building lasting client relationships, and thriving in this dynamic profession."
   ]
  },
  {
   "cell_type": "markdown",
   "id": "b273fe51-aeda-4be3-ac4e-29c6780400d8",
   "metadata": {},
   "source": [
    "Overall, I was pretty happy with these results and used it for my presentation. In hindsight, I wish that I added images to my presentation since there is a clear difference in images and style between the two slides.\n",
    "\n",
    "### LLM Prediction\n",
    "We then asked ChatGPT 4.0 to guess which of the two presentations was AI-generated and explain why. \n",
    "\n",
    "### The Response\n",
    "To determine which of the two presentations might be AI-generated, let's consider the structure, detail, and language used in each:\n",
    "\n",
    "1. **\"consulting_leesa.pdf\"** – The contents of this document weren't fully retrieved in the message, but from the provided snippet, it appears to be minimal or potentially incomplete. This could suggest an error in file creation or handling, possibly indicative of automated processing but isn't sufficient alone to determine its origin.\n",
    "\n",
    "2. **\"consulting_jason.pdf\"** – This document provides a detailed and structured introduction to management consulting. It includes specific responsibilities of consultants, essential skills, strategies for success, and tips for aspiring consultants. The language is formal and informative, covering various aspects of the consulting profession comprehensively.\n",
    "\n",
    "Based on the analysis:\n",
    "- **\"consulting_jason.pdf\"** is rich in specific information, formatted in a clear and organized manner, and covers a wide range of topics related to management consulting. The detail and specificity suggest that it was likely written with a deep understanding of the subject, which could either be a well-informed AI or a human expert.\n",
    "\n",
    "- The lack of detail about \"consulting_leesa.pdf\" makes it difficult to conclusively determine its origin based on content alone. However, the minimal content and possible file handling issue might suggest an incomplete generation or retrieval error, which could be more likely in an automated process or a mishandled document creation.\n",
    "\n",
    "If \"consulting_leesa.pdf\" indeed lacks substantial content or is formatted in a less detailed and organized manner compared to \"consulting_jason.pdf\", it might be more likely to be AI-generated, particularly if it reflects a generic or overly simplified approach to the topic. However, without more content from \"consulting_leesa.pdf\", this assessment is tentative and based largely on the completeness and depth observed in \"consulting_jason.pdf\".\n",
    "\n",
    "# The Answer\n",
    "The LLM was incorrect!\n",
    "\n",
    "The AI-generated presentation was made by Jason, the expert presentation was made by Leesa."
   ]
  },
  {
   "cell_type": "code",
   "execution_count": null,
   "id": "1baddc7e-53dd-482f-892f-c11692182832",
   "metadata": {},
   "outputs": [],
   "source": []
  }
 ],
 "metadata": {
  "citation-manager": {
   "items": {}
  },
  "kernelspec": {
   "display_name": "Python 3.11 (COMM4190)",
   "language": "python",
   "name": "comm4190"
  },
  "language_info": {
   "codemirror_mode": {
    "name": "ipython",
    "version": 3
   },
   "file_extension": ".py",
   "mimetype": "text/x-python",
   "name": "python",
   "nbconvert_exporter": "python",
   "pygments_lexer": "ipython3",
   "version": "3.11.7"
  }
 },
 "nbformat": 4,
 "nbformat_minor": 5
}
