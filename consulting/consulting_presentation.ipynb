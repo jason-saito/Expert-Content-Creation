{
 "cells": [
  {
   "cell_type": "markdown",
   "id": "a73b9db2-bcc0-4a20-af79-b41d9d941086",
   "metadata": {},
   "source": [
    "# AI-Generating a Presentation About Consulting"
   ]
  },
  {
   "cell_type": "code",
   "execution_count": null,
   "id": "764b6142-2239-4b5a-b2ca-974e9027951c",
   "metadata": {},
   "outputs": [],
   "source": []
  }
 ],
 "metadata": {
  "citation-manager": {
   "items": {}
  },
  "kernelspec": {
   "display_name": "Python 3.11 (COMM4190)",
   "language": "python",
   "name": "comm4190"
  },
  "language_info": {
   "codemirror_mode": {
    "name": "ipython",
    "version": 3
   },
   "file_extension": ".py",
   "mimetype": "text/x-python",
   "name": "python",
   "nbconvert_exporter": "python",
   "pygments_lexer": "ipython3",
   "version": "3.11.7"
  }
 },
 "nbformat": 4,
 "nbformat_minor": 5
}
