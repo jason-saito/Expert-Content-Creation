{
 "cells": [
  {
   "cell_type": "markdown",
   "id": "65953b91-e769-4866-a1d9-7359b96d65f8",
   "metadata": {},
   "source": [
    "# AI-Generating a Presentation About Basketball\n",
    "First, I prompted ChapGPT 3 by asking “how do you play basketball.” This led to the categories of basic rules, dribbling, shooting, passing, and defense. This can be seen below. \n",
    "\n",
    "“Basic Rules: Understand the fundamental rules of basketball, including dribbling, passing, shooting, and defending. Familiarize yourself with violations like traveling, double dribble, and fouls.\n",
    "Dribbling: Learn how to dribble the ball while moving. Use your fingertips to control the ball's bounce, and practice dribbling with both hands to improve your ball-handling skills.\n",
    "Shooting: Work on your shooting technique, including your stance, grip, and follow-through. Practice shooting from different distances and angles, focusing on accuracy and consistency.\n",
    "Passing: Practice various types of passes, such as chest passes, bounce passes, and overhead passes. Improve your passing accuracy and timing to facilitate ball movement and teamwork.\n",
    "Defense: Learn defensive techniques like staying low, moving your feet, and using your arms to disrupt passes and shots. Focus on positioning, anticipation, and communication with your teammates.” \n",
    "\n",
    "\n",
    "Then, I wanted to go into the specifics of strategy. I prompted Chat to give me basketball strategy and tips. Chat responded in a pretty robotic, non-human way. I did not take this response and instead prompted chat to “sound more human, like an expert. This was Chat’s response…\n",
    "\n",
    "\n",
    "“Thank you! I've spent quite a bit of time analyzing basketball strategies and learning about the game's intricacies. If you have any specific questions or want to dive deeper into any aspect of basketball strategy, feel free to ask!” \n",
    "\n",
    "\n",
    "Clearly, Chat wasn’t getting the point. Getting ChatGPT 3 to sound like a human expert is somewhat difficult. I finally got the response of…\n",
    "\n",
    "\n",
    "“Offense: Teams use plays and strategies to create open shots and score points.\n",
    "Defense: Teams use different strategies to stop the opponent from scoring.\n",
    "Rebounding: Securing rebounds is crucial for gaining possession and creating scoring opportunities.\n",
    "Teamwork: Effective communication, coordination, and collaboration are essential for success in basketball.”\n",
    "\n",
    "\n",
    "This sounded human enough, however, from an outside perspective, I would be able to notice a stark difference between Jason’s expert knowledge of basketball and ChatGPT 3 trying to replicate a human expert. \n",
    "\n",
    "# The Answer\n",
    "The AI-generated presentation was made by Nora, the expert presentation was made by Jason."
   ]
  },
  {
   "cell_type": "code",
   "execution_count": null,
   "id": "cb45993c-6d55-406f-9b3a-582c87ae07e0",
   "metadata": {},
   "outputs": [],
   "source": []
  }
 ],
 "metadata": {
  "citation-manager": {
   "items": {}
  },
  "kernelspec": {
   "display_name": "Python 3.11 (COMM4190)",
   "language": "python",
   "name": "comm4190"
  },
  "language_info": {
   "codemirror_mode": {
    "name": "ipython",
    "version": 3
   },
   "file_extension": ".py",
   "mimetype": "text/x-python",
   "name": "python",
   "nbconvert_exporter": "python",
   "pygments_lexer": "ipython3",
   "version": "3.11.7"
  }
 },
 "nbformat": 4,
 "nbformat_minor": 5
}
